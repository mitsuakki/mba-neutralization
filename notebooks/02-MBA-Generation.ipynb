{
 "cells": [
  {
   "cell_type": "markdown",
   "metadata": {},
   "source": [
    "## MBA Generation\n",
    "\n",
    "A lot of proven MBA exist nowadays, but since it's only about mathematics, couldn't we generate them in order to be able to detect them more easily ?<br>\n",
    "The RNN would have a better training set, the pattern recognizer will have more patterns to check and it will also help to find a way to use math for the neutralization.<br>\n",
    "\n",
    "MBA Generation Approach. Zhou et al.(2007)’s work described a high-level principle for constructing MBA obfuscation rules from the truth tables and the linear equation system.<br>\n",
    "However, their work did not answer practical questions when building a large scale of MBA transformation rules, such as:\n",
    "* the number of variables in one expression;\n",
    "* the length of the MBA corpus;\n",
    "* the cost of generation.\n",
    "\n",
    "Ninon Eyrolles (2017) has proven that 2-variable and 3-variable MBA expressions are commonly used in practical software obfuscation. <br>\n",
    "Since we understand AI, but doesn't have time, we are gonna use the amazing work that is [NeuReduce](https://aclanthology.org/2020.findings-emnlp.56.pdf).<br>\n",
    "\n",
    "ToDo : details explanation of the algorithm\n",
    "\n",
    "Now that we our dataset of complex MBA we have to simplify them !"
   ]
  }
 ],
 "metadata": {
  "kernelspec": {
   "display_name": "venv",
   "language": "python",
   "name": "python3"
  },
  "language_info": {
   "name": "python",
   "version": "3.11.2 (main, Aug 26 2024, 07:20:54) [GCC 12.2.0]"
  },
  "orig_nbformat": 4,
  "vscode": {
   "interpreter": {
    "hash": "03c96cdfb60751c35271ce8c9be555f6ffa126fe27b79f3ba393af0c1133514d"
   }
  }
 },
 "nbformat": 4,
 "nbformat_minor": 2
}
