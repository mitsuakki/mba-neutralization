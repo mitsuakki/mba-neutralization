{
 "cells": [
  {
   "attachments": {},
   "cell_type": "markdown",
   "metadata": {},
   "source": [
    "# The world of mixed boolean arithmetic\n",
    "\n",
    "With the growing power of software analysis and attack tools, and the ubiquity of open operating systems, it's essential to have ever more powerful data hiding mechanisms and algorithms.\n",
    "\n",
    "This is where obfuscation comes in. In this issue, we present the principle of mixed Boolean arithmetic expressions (MBA).\n",
    "\n",
    "MBA expressions involve both arithmetic calculations (e.g. `+`, `-`, `*`) and binary calculations (e.g. `&`, `|`, `~`, `^`). \n",
    "MBA expressions have been widely used in software obfuscation, transforming programs from a simple to a complex form. \n",
    "MBA expressions are difficult to simplify, as the interweaving of bitwise and arithmetic operations makes mathematical reduction laws inefficient.\n",
    "inefficient. Our aim is to recover the original simple form from an obfuscated MBA expression. \n",
    "\n",
    "In this article, we propose:\n",
    "* the use of rules to recognize certain patterns\n",
    "* the use of recurrent neural networks (RNN)\n",
    "* the use of traditional math rules\n",
    "\n",
    "We'll also look at some benchmarking results to see who's the best in terms of accuracy, resolution time and performance overhead.<br>"
   ]
  },
  {
   "attachments": {},
   "cell_type": "markdown",
   "metadata": {},
   "source": [
    "### Plan\n",
    "\n",
    "1. [What is an MBA ?](01-MBA.ipynb)\n",
    "2. [MBA Generation](02-MBA-Generation.ipynb)\n",
    "3. [Pattern Reconginzer](03-Pattern.ipynb)\n",
    "4. [Recurrent Neuronal Network](04-RNN.ipynb)\n",
    "5. [Maths rules](05-Maths.ipynb)\n",
    "6. [Conclusion](06-Conclusion.ipynb)"
   ]
  }
 ],
 "metadata": {
  "kernelspec": {
   "display_name": "Python 3",
   "language": "python",
   "name": "python3"
  },
  "language_info": {
   "name": "python",
   "version": "3.11.2 (main, Aug 26 2024, 07:20:54) [GCC 12.2.0]"
  },
  "orig_nbformat": 4,
  "vscode": {
   "interpreter": {
    "hash": "e7370f93d1d0cde622a1f8e1c04877d8463912d04d973331ad4851f04de6915a"
   }
  }
 },
 "nbformat": 4,
 "nbformat_minor": 2
}
