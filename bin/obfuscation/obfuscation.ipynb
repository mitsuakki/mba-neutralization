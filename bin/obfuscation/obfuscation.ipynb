{
 "cells": [
  {
   "cell_type": "markdown",
   "metadata": {},
   "source": [
    "# Phacomochere obfuscation\n",
    "\n",
    "In this notebook, we'll look at how we can generate obfuscations from two different obfuscators on a simple C++ function.\n",
    "\n",
    "* [Pluto](https://github.com/bluesadi/Pluto)\n",
    "  * LLVM based obfuscator\n",
    "  * Obfuscate IR (.ll)\n",
    "  * [llvm-ob-passes](https://github.com/expend20/llvm-ob-passes) add the work on passes manager like eshard-ollvm\n",
    "\n",
    "* [Tigress](https://tigress.wtf/)\n",
    "  * Source to source based obfuscator\n",
    "  * Work on multiple arch (intel/arm/wasm, 32/64 bits ...)\n",
    "  * Easy to use and well documented"
   ]
  },
  {
   "cell_type": "markdown",
   "metadata": {},
   "source": [
    "## Simple C function"
   ]
  },
  {
   "cell_type": "code",
   "execution_count": null,
   "metadata": {
    "vscode": {
     "languageId": "cpp"
    }
   },
   "outputs": [],
   "source": [
    "#include <stdio.h>\n",
    "#include <stdint.h>\n",
    "#include <stdbool.h>\n",
    "#include <stdlib.h>\n",
    "#include <string.h>\n",
    "\n",
    "char* good_string = (char*)\"Phacomochere\\0\";\n",
    "int size_good_string = 0;\n",
    "\n",
    "uint64_t good_value = 0x6964654A654C6F59;\n",
    "\n",
    "static bool RootFunction(char* string, uint64_t value)\n",
    "{\n",
    "    if (string == NULL)\n",
    "        return false;\n",
    "\n",
    "    size_good_string = strlen(good_string) + 1;\n",
    " \n",
    "    for (int i = 0; i < size_good_string; ++i)\n",
    "    {\n",
    "        if (string[i] != good_string[i])\n",
    "            return false;\n",
    "    }\n",
    "\n",
    "    if (value != good_value)\n",
    "        return false;\n",
    "\n",
    "    return true;\n",
    "}\n",
    "\n",
    "int main(int argc, char *argv[])\n",
    "{\n",
    "    size_good_string = strlen(good_string) + 1;\n",
    "\n",
    "    if (argc != 3) {\n",
    "        fprintf(stderr, \"Usage: %s <string> <hex_value>\\n\", argv[0]);\n",
    "        return 1;\n",
    "    }\n",
    "\n",
    "    uint64_t value = strtoull(argv[2], NULL, 16);\n",
    "\n",
    "    if (RootFunction(argv[1], value)) {\n",
    "        printf(\"RootFunction returned true.\\n\");\n",
    "    } else {\n",
    "        printf(\"RootFunction returned false.\\n\");\n",
    "    }\n",
    "\n",
    "    return 0;\n",
    "}"
   ]
  },
  {
   "cell_type": "markdown",
   "metadata": {},
   "source": [
    "## LLVM Based Obfuscator(s)\n",
    "\n",
    "First, we'll look at pluto obfuscator, and more explictly a wrapper of it named **llvm-ob-passes**:\n",
    "* Installation\n",
    "* Usage\n",
    "\n",
    "Note that i already compiled libPasses, find them in [bin](./bin/libpasses.zip) directory"
   ]
  },
  {
   "cell_type": "markdown",
   "metadata": {},
   "source": [
    "### llvm-ob-passes installation"
   ]
  },
  {
   "cell_type": "code",
   "execution_count": null,
   "metadata": {
    "vscode": {
     "languageId": "shellscript"
    }
   },
   "outputs": [],
   "source": [
    "#!/bin/bash\n",
    "\n",
    "set -e\n",
    "\n",
    "# Set variables\n",
    "LLVM_VERSIONS=(\"16\" \"17\" \"18\") # or you can also use $(llvm-config --version | cut -d'.' -f1) to get installed version\n",
    "ARTIFACTS_DIR=\"artifacts\"\n",
    "RELEASE_DIR=\"release_files\"\n",
    "\n",
    "# Install necessary packages\n",
    "sudo apt-get update\n",
    "sudo apt-get install -y git wget libseccomp-dev zip\n",
    "\n",
    "# Clone repository and submodules\n",
    "git clone --recurse-submodules https://github.com/expend20/llvm-ob-passes\n",
    "cd llvm-ob-passes\n",
    "\n",
    "# Main build loop\n",
    "for LLVM_VERSION in \"${LLVM_VERSIONS[@]}\"; do\n",
    "  # Install LLVM\n",
    "  wget https://apt.llvm.org/llvm.sh && chmod +x llvm.sh\n",
    "  sudo ./llvm.sh \"$LLVM_VERSION\"\n",
    "\n",
    "  # Update clang and clang++ links\n",
    "  sudo ln -sf /usr/bin/clang-\"$LLVM_VERSION\" /usr/bin/clang\n",
    "  sudo ln -sf /usr/bin/clang++-\"$LLVM_VERSION\" /usr/bin/clang++\n",
    "  sudo ln -sf /usr/bin/opt-\"$LLVM_VERSION\" /usr/bin/opt\n",
    "\n",
    "  # Display version information\n",
    "  clang --version\n",
    "  opt --version\n",
    "\n",
    "  # Configure and build with CMake\n",
    "  cmake -B build -DLLVM_DIR=/usr/lib/llvm-\"$LLVM_VERSION\"/cmake \\\n",
    "    -DCMAKE_C_COMPILER=clang-\"$LLVM_VERSION\" \\\n",
    "    -DCMAKE_CXX_COMPILER=clang++-\"$LLVM_VERSION\"\n",
    "  cmake --build build\n",
    "\n",
    "  # Collect artifacts\n",
    "  mkdir -p \"$ARTIFACTS_DIR\"\n",
    "  cp build/libpasses.so \"$ARTIFACTS_DIR/libpasses-$LLVM_VERSION.so\"\n",
    "  cp build/wrapper \"$ARTIFACTS_DIR/wrapper-$LLVM_VERSION\"\n",
    "done\n",
    "\n",
    "# Prepare release files\n",
    "mkdir -p \"$RELEASE_DIR\"\n",
    "cp \"$ARTIFACTS_DIR\"/libpasses-*.so \"$RELEASE_DIR/\"\n",
    "cp \"$ARTIFACTS_DIR/wrapper-18\" \"$RELEASE_DIR/wrapper\"\n",
    "\n",
    "# Package into a zip file\n",
    "cd \"$RELEASE_DIR\"\n",
    "zip -r ../libpasses.zip *\n",
    "cd .."
   ]
  },
  {
   "cell_type": "markdown",
   "metadata": {},
   "source": [
    "### Usage\n",
    "\n",
    "/!\\ All string between <> have to be replaced by something of your choice. /!\\ <br>\n",
    "\n",
    "**An automatic compilation script is present in bash directory**"
   ]
  },
  {
   "cell_type": "code",
   "execution_count": null,
   "metadata": {
    "vscode": {
     "languageId": "shellscript"
    }
   },
   "outputs": [],
   "source": [
    "#!/bin/bash\n",
    "\n",
    "clang -c -S -emit-llvm -O1 main.c -o dump/pluto/main.ll\n",
    "\n",
    "# I recommend using llvm 16, because 17 and 18 used to segfault a lot\n",
    "opt -load-pass-plugin=./lib/libpasses-$(llvm-config --version | cut -d'.' -f1).so -passes \"example-pass\" dump/pluto/main.ll -S -o \"dump/pluto/example/example.ll\" -debug-pass-manager\n",
    "\n",
    "clang dump/pluto/main_opt.ll -o dump/pluto/main_opt"
   ]
  },
  {
   "cell_type": "markdown",
   "metadata": {},
   "source": [
    "#### Passes name\n",
    "* example-pass\n",
    "* pluto-bogus-control-flow\n",
    "* pluto-flattening\n",
    "* pluto-mba-obfuscation\n",
    "* pluto-substitution\n",
    "* pluto-global-encryption\n",
    "* pluto-indirect-call"
   ]
  },
  {
   "cell_type": "markdown",
   "metadata": {
    "vscode": {
     "languageId": "shellscript"
    }
   },
   "source": [
    "## Tigress\n",
    "\n",
    "\n",
    "### Opaque Predicate\n",
    "\n",
    "- [executable](dump/tigress/opaquePredicate/initOpaque)\n",
    "- [obfuscated_source](dump/tigress/opaquePredicate/initOpaque.c)\n",
    "\n",
    "#### Graph view\n",
    "![](../../resources/images/pseudocode/initopaque.png)\n",
    "\n",
    "##### Command\n",
    "```shell\n",
    "tigress \\\n",
    "   --Environment=x86_64:Linux:Gcc:11.4.0 \\\n",
    "   --Transform=InitOpaque \\\n",
    "   --Functions=* \\\n",
    "   obfuscation-demo.c \\\n",
    "   --out=tigress/code/opaquePredicate/initOpaque.c\n",
    "```\n",
    "\n",
    "## Mixed boolean arithmetic\n",
    "\n",
    "- [executable](dump/tigress/mba/mba)\n",
    "- [obfuscated_source](dump/tigress/mba/mba.c)\n",
    "\n",
    "#### Graph view\n",
    "![](../../resources/images/pseudocode/mba.png)\n",
    "\n",
    "##### Command\n",
    "```shell\n",
    "tigress \\\n",
    "  --Environment=x86_64:Linux:Gcc:11.4.0 \\\n",
    "  --Transform=EncodeArithmetic \\\n",
    "  --Functions=* \\\n",
    "  --EncodeArithmeticKinds=* \\\n",
    "  obfuscation-demo.c \\\n",
    "  --out=tigress/code/mba/mba.c\n",
    "```\n",
    "\n",
    "### Flattening\n",
    "\n",
    "- [executable](dump/tigress/flattening/flattening)\n",
    "- [obfuscated_source](dump/tigress/flattening/flattening.c)\n",
    "\n",
    "#### Graph view\n",
    "![](../../resources/images/pseudocode/flattening.png)\n",
    "\n",
    "\n",
    "##### Command\n",
    "```shell\n",
    "tigress \\\n",
    "  --Environment=x86_64:Linux:Gcc:11.4.0 \\\n",
    "  --Transform=Flatten \\\n",
    "  --Functions=* \\\n",
    "  --FlattenSplitBasicBlocks=true \\\n",
    "  --FlattenRandomizeBlocks=true \\\n",
    "  obfuscation-demo.c \\\n",
    "  --out=tigress/code/flattening/flattening.c\n",
    "```\n",
    "\n",
    "### Bogus Control Flow\n",
    "\n",
    "- [executable](dump/tigress/bogus/antiAliasAnalysis)\n",
    "- [obfuscated_source](dump/tigress/bogus/antiAliasAnalysis.c)\n",
    "\n",
    "#### Graph view\n",
    "![](../../resources/images/pseudocode/bogus.png)\n",
    "\n",
    "##### Command\n",
    "```shell\n",
    "tigress \\\n",
    "  --Environment=x86_64:Linux:Gcc:11.4.0 \\\n",
    "  --Transform=Flatten \\\n",
    "  --Functions=* \\\n",
    "  --AntiAliasAnalysisObfuscateIndex=true \\\n",
    "  --AntiAliasAnalysisBogusEntries=true \\\n",
    "    obfuscation-demo.c \\\n",
    "  --out=tigress/code/bogus/antiAliasAnalysis.c\n",
    "```"
   ]
  },
  {
   "cell_type": "markdown",
   "metadata": {},
   "source": []
  },
  {
   "cell_type": "markdown",
   "metadata": {},
   "source": [
    "### Results\n",
    "\n",
    "All results are stored into the `dump` directory."
   ]
  }
 ],
 "metadata": {
  "language_info": {
   "name": "python"
  }
 },
 "nbformat": 4,
 "nbformat_minor": 2
}
